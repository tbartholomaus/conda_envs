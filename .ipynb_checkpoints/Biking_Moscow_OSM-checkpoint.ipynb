{
 "cells": [
  {
   "cell_type": "code",
   "execution_count": 20,
   "id": "available-prisoner",
   "metadata": {},
   "outputs": [],
   "source": [
    "import osmnx as ox\n",
    "import numpy as np\n",
    "import matplotlib.pyplot as plt\n",
    "\n",
    "# import matplotlib\n",
    "# matplotlib.use('nbagg')\n",
    "%matplotlib widget"
   ]
  },
  {
   "cell_type": "code",
   "execution_count": 21,
   "id": "existing-reynolds",
   "metadata": {},
   "outputs": [
    {
     "data": {
      "application/vnd.jupyter.widget-view+json": {
       "model_id": "9a988b4d2b11435db608cd05d44b27a8",
       "version_major": 2,
       "version_minor": 0
      },
      "text/plain": [
       "Canvas(toolbar=Toolbar(toolitems=[('Home', 'Reset original view', 'home', 'home'), ('Back', 'Back to previous …"
      ]
     },
     "metadata": {},
     "output_type": "display_data"
    }
   ],
   "source": [
    "\n",
    "moscow = ox.geocode_to_gdf(\"Moscow, Idaho\")\n",
    "moscow.plot(edgecolor=\"0.2\")\n",
    "plt.title(\"Moscow, ID\");"
   ]
  },
  {
   "cell_type": "code",
   "execution_count": 23,
   "id": "white-position",
   "metadata": {},
   "outputs": [
    {
     "data": {
      "text/plain": [
       "<networkx.classes.multidigraph.MultiDiGraph at 0x7f9417efa390>"
      ]
     },
     "execution_count": 23,
     "metadata": {},
     "output_type": "execute_result"
    }
   ],
   "source": [
    "bike_network = ox.graph_from_place(\"Moscow, Idaho\",\n",
    "                                   network_type=\"bike\")\n",
    "bike_network\n"
   ]
  },
  {
   "cell_type": "code",
   "execution_count": 24,
   "id": "million-lawsuit",
   "metadata": {},
   "outputs": [
    {
     "data": {
      "text/html": [
       "<div>\n",
       "<style scoped>\n",
       "    .dataframe tbody tr th:only-of-type {\n",
       "        vertical-align: middle;\n",
       "    }\n",
       "\n",
       "    .dataframe tbody tr th {\n",
       "        vertical-align: top;\n",
       "    }\n",
       "\n",
       "    .dataframe thead th {\n",
       "        text-align: right;\n",
       "    }\n",
       "</style>\n",
       "<table border=\"1\" class=\"dataframe\">\n",
       "  <thead>\n",
       "    <tr style=\"text-align: right;\">\n",
       "      <th></th>\n",
       "      <th>name</th>\n",
       "      <th>length</th>\n",
       "      <th>bridge</th>\n",
       "      <th>geometry</th>\n",
       "    </tr>\n",
       "  </thead>\n",
       "  <tbody>\n",
       "    <tr>\n",
       "      <th>0</th>\n",
       "      <td>Rowe Street</td>\n",
       "      <td>240.774</td>\n",
       "      <td>NaN</td>\n",
       "      <td>LINESTRING (-116.99426 46.72175, -116.99434 46...</td>\n",
       "    </tr>\n",
       "    <tr>\n",
       "      <th>1</th>\n",
       "      <td>Hawthorne Drive</td>\n",
       "      <td>92.036</td>\n",
       "      <td>NaN</td>\n",
       "      <td>LINESTRING (-116.99628 46.72097, -116.99668 46...</td>\n",
       "    </tr>\n",
       "    <tr>\n",
       "      <th>2</th>\n",
       "      <td>NaN</td>\n",
       "      <td>65.758</td>\n",
       "      <td>NaN</td>\n",
       "      <td>LINESTRING (-116.99727 46.72104, -116.99650 46...</td>\n",
       "    </tr>\n",
       "    <tr>\n",
       "      <th>3</th>\n",
       "      <td>Hawthorne Drive</td>\n",
       "      <td>108.203</td>\n",
       "      <td>NaN</td>\n",
       "      <td>LINESTRING (-116.99727 46.72104, -116.99741 46...</td>\n",
       "    </tr>\n",
       "    <tr>\n",
       "      <th>4</th>\n",
       "      <td>Hawthorne Drive</td>\n",
       "      <td>92.036</td>\n",
       "      <td>NaN</td>\n",
       "      <td>LINESTRING (-116.99727 46.72104, -116.99683 46...</td>\n",
       "    </tr>\n",
       "    <tr>\n",
       "      <th>...</th>\n",
       "      <td>...</td>\n",
       "      <td>...</td>\n",
       "      <td>...</td>\n",
       "      <td>...</td>\n",
       "    </tr>\n",
       "    <tr>\n",
       "      <th>4868</th>\n",
       "      <td>NaN</td>\n",
       "      <td>56.519</td>\n",
       "      <td>NaN</td>\n",
       "      <td>LINESTRING (-116.97156 46.72362, -116.97198 46...</td>\n",
       "    </tr>\n",
       "    <tr>\n",
       "      <th>4869</th>\n",
       "      <td>NaN</td>\n",
       "      <td>34.761</td>\n",
       "      <td>NaN</td>\n",
       "      <td>LINESTRING (-116.97198 46.72403, -116.97155 46...</td>\n",
       "    </tr>\n",
       "    <tr>\n",
       "      <th>4870</th>\n",
       "      <td>NaN</td>\n",
       "      <td>42.312</td>\n",
       "      <td>NaN</td>\n",
       "      <td>LINESTRING (-116.97198 46.72403, -116.97252 46...</td>\n",
       "    </tr>\n",
       "    <tr>\n",
       "      <th>4871</th>\n",
       "      <td>NaN</td>\n",
       "      <td>150.257</td>\n",
       "      <td>NaN</td>\n",
       "      <td>LINESTRING (-116.97198 46.72403, -116.97200 46...</td>\n",
       "    </tr>\n",
       "    <tr>\n",
       "      <th>4872</th>\n",
       "      <td>NaN</td>\n",
       "      <td>56.519</td>\n",
       "      <td>NaN</td>\n",
       "      <td>LINESTRING (-116.97198 46.72403, -116.97156 46...</td>\n",
       "    </tr>\n",
       "  </tbody>\n",
       "</table>\n",
       "<p>4873 rows × 4 columns</p>\n",
       "</div>"
      ],
      "text/plain": [
       "                 name   length bridge  \\\n",
       "0         Rowe Street  240.774    NaN   \n",
       "1     Hawthorne Drive   92.036    NaN   \n",
       "2                 NaN   65.758    NaN   \n",
       "3     Hawthorne Drive  108.203    NaN   \n",
       "4     Hawthorne Drive   92.036    NaN   \n",
       "...               ...      ...    ...   \n",
       "4868              NaN   56.519    NaN   \n",
       "4869              NaN   34.761    NaN   \n",
       "4870              NaN   42.312    NaN   \n",
       "4871              NaN  150.257    NaN   \n",
       "4872              NaN   56.519    NaN   \n",
       "\n",
       "                                               geometry  \n",
       "0     LINESTRING (-116.99426 46.72175, -116.99434 46...  \n",
       "1     LINESTRING (-116.99628 46.72097, -116.99668 46...  \n",
       "2     LINESTRING (-116.99727 46.72104, -116.99650 46...  \n",
       "3     LINESTRING (-116.99727 46.72104, -116.99741 46...  \n",
       "4     LINESTRING (-116.99727 46.72104, -116.99683 46...  \n",
       "...                                                 ...  \n",
       "4868  LINESTRING (-116.97156 46.72362, -116.97198 46...  \n",
       "4869  LINESTRING (-116.97198 46.72403, -116.97155 46...  \n",
       "4870  LINESTRING (-116.97198 46.72403, -116.97252 46...  \n",
       "4871  LINESTRING (-116.97198 46.72403, -116.97200 46...  \n",
       "4872  LINESTRING (-116.97198 46.72403, -116.97156 46...  \n",
       "\n",
       "[4873 rows x 4 columns]"
      ]
     },
     "execution_count": 24,
     "metadata": {},
     "output_type": "execute_result"
    }
   ],
   "source": [
    "bike_network = (ox.graph_to_gdfs(bike_network, nodes=False)\n",
    "                  .reset_index(drop=True)\n",
    "                  .loc[:, [\"name\", \"length\", \"bridge\", \"geometry\"]]\n",
    "               )\n",
    "bike_network"
   ]
  },
  {
   "cell_type": "code",
   "execution_count": 25,
   "id": "religious-austin",
   "metadata": {},
   "outputs": [
    {
     "data": {
      "application/vnd.jupyter.widget-view+json": {
       "model_id": "15da6cc3696f4cda94a217f631f94a1f",
       "version_major": 2,
       "version_minor": 0
      },
      "text/plain": [
       "Canvas(toolbar=Toolbar(toolitems=[('Home', 'Reset original view', 'home', 'home'), ('Back', 'Back to previous …"
      ]
     },
     "metadata": {},
     "output_type": "display_data"
    }
   ],
   "source": [
    "ax = moscow.plot(edgecolor=\"0.2\")\n",
    "bike_network.plot(ax=ax, edgecolor=\"0.2\", color=\"tomato\")\n",
    "plt.title(\"Moscow Cycling\");\n"
   ]
  },
  {
   "cell_type": "markdown",
   "id": "developed-restoration",
   "metadata": {},
   "source": [
    "Question 1: What is the total length of bike lanes in Stanley Park?"
   ]
  },
  {
   "cell_type": "code",
   "execution_count": 10,
   "id": "controlled-above",
   "metadata": {},
   "outputs": [
    {
     "name": "stdout",
     "output_type": "stream",
     "text": [
      "Total bike lane length: 418km\n"
     ]
    }
   ],
   "source": [
    "total_length = bike_network[\"length\"].sum()  # total length in m\n",
    "print(f\"Total bike lane length: {total_length / 1000:.0f}km\")"
   ]
  },
  {
   "cell_type": "code",
   "execution_count": 11,
   "id": "plastic-nylon",
   "metadata": {},
   "outputs": [
    {
     "name": "stderr",
     "output_type": "stream",
     "text": [
      "/Users/timb/anaconda3/envs/spatialenv21a/lib/python3.7/site-packages/ipykernel_launcher.py:1: UserWarning: Geometry is in a geographic CRS. Results from 'length' are likely incorrect. Use 'GeoSeries.to_crs()' to re-project geometries to a projected CRS before this operation.\n",
      "\n",
      "  \"\"\"Entry point for launching an IPython kernel.\n"
     ]
    },
    {
     "data": {
      "text/plain": [
       "0       0.002381\n",
       "1       0.001101\n",
       "2       0.000816\n",
       "3       0.001012\n",
       "4       0.001101\n",
       "          ...   \n",
       "4868    0.000596\n",
       "4869    0.000446\n",
       "4870    0.000542\n",
       "4871    0.001710\n",
       "4872    0.000596\n",
       "Length: 4873, dtype: float64"
      ]
     },
     "execution_count": 11,
     "metadata": {},
     "output_type": "execute_result"
    }
   ],
   "source": [
    "bike_network[\"geometry\"].length"
   ]
  },
  {
   "cell_type": "code",
   "execution_count": 13,
   "id": "starting-generation",
   "metadata": {},
   "outputs": [
    {
     "data": {
      "text/plain": [
       "0       243.143524\n",
       "1        93.084335\n",
       "2        66.530112\n",
       "3       109.224451\n",
       "4        93.084335\n",
       "           ...    \n",
       "4868     57.097714\n",
       "4869     35.181358\n",
       "4870     42.823708\n",
       "4871    151.906629\n",
       "4872     57.097714\n",
       "Length: 4873, dtype: float64"
      ]
     },
     "execution_count": 13,
     "metadata": {},
     "output_type": "execute_result"
    }
   ],
   "source": [
    "\n",
    "\n",
    "bike_network = bike_network.to_crs(\"EPSG:3347\")\n",
    "bike_network[\"geometry\"].length\n"
   ]
  },
  {
   "cell_type": "code",
   "execution_count": 14,
   "id": "outside-italic",
   "metadata": {},
   "outputs": [
    {
     "name": "stdout",
     "output_type": "stream",
     "text": [
      "Total bike lane length: 422km\n"
     ]
    }
   ],
   "source": [
    "# bike_network = bike_network.to_crs(\"EPSG:3347\")\n",
    "# bike_network[\"geometry\"].length\n",
    "total_length = bike_network[\"geometry\"].length.sum()\n",
    "print(f\"Total bike lane length: {total_length / 1000:.0f}km\")"
   ]
  },
  {
   "cell_type": "code",
   "execution_count": null,
   "id": "trying-finance",
   "metadata": {},
   "outputs": [],
   "source": []
  },
  {
   "cell_type": "code",
   "execution_count": 29,
   "id": "remarkable-crash",
   "metadata": {},
   "outputs": [
    {
     "data": {
      "application/vnd.jupyter.widget-view+json": {
       "model_id": "c8e7f855f88945c7927d98c6a45b8d4c",
       "version_major": 2,
       "version_minor": 0
      },
      "text/plain": [
       "Canvas(toolbar=Toolbar(toolitems=[('Home', 'Reset original view', 'home', 'home'), ('Back', 'Back to previous …"
      ]
     },
     "metadata": {},
     "output_type": "display_data"
    }
   ],
   "source": [
    "latah = ox.geocode_to_gdf(\"Latah County, Idaho\")\n",
    "latah.plot(edgecolor=\"0.2\")\n",
    "plt.title(\"Latah County, ID\");"
   ]
  },
  {
   "cell_type": "code",
   "execution_count": 27,
   "id": "public-backing",
   "metadata": {},
   "outputs": [
    {
     "data": {
      "text/html": [
       "<div>\n",
       "<style scoped>\n",
       "    .dataframe tbody tr th:only-of-type {\n",
       "        vertical-align: middle;\n",
       "    }\n",
       "\n",
       "    .dataframe tbody tr th {\n",
       "        vertical-align: top;\n",
       "    }\n",
       "\n",
       "    .dataframe thead th {\n",
       "        text-align: right;\n",
       "    }\n",
       "</style>\n",
       "<table border=\"1\" class=\"dataframe\">\n",
       "  <thead>\n",
       "    <tr style=\"text-align: right;\">\n",
       "      <th></th>\n",
       "      <th>name</th>\n",
       "      <th>length</th>\n",
       "      <th>bridge</th>\n",
       "      <th>geometry</th>\n",
       "    </tr>\n",
       "  </thead>\n",
       "  <tbody>\n",
       "    <tr>\n",
       "      <th>0</th>\n",
       "      <td>NaN</td>\n",
       "      <td>77.655</td>\n",
       "      <td>NaN</td>\n",
       "      <td>LINESTRING (-117.03958 46.79292, -117.03934 46...</td>\n",
       "    </tr>\n",
       "    <tr>\n",
       "      <th>1</th>\n",
       "      <td>West Persimmon Street</td>\n",
       "      <td>118.155</td>\n",
       "      <td>NaN</td>\n",
       "      <td>LINESTRING (-116.92521 46.55461, -116.92675 46...</td>\n",
       "    </tr>\n",
       "    <tr>\n",
       "      <th>2</th>\n",
       "      <td>North Fir Street</td>\n",
       "      <td>57.175</td>\n",
       "      <td>NaN</td>\n",
       "      <td>LINESTRING (-116.92521 46.55461, -116.92519 46...</td>\n",
       "    </tr>\n",
       "    <tr>\n",
       "      <th>3</th>\n",
       "      <td>North Fir Street</td>\n",
       "      <td>53.945</td>\n",
       "      <td>NaN</td>\n",
       "      <td>LINESTRING (-116.92521 46.55461, -116.92522 46...</td>\n",
       "    </tr>\n",
       "    <tr>\n",
       "      <th>4</th>\n",
       "      <td>West Persimmon Street</td>\n",
       "      <td>104.956</td>\n",
       "      <td>NaN</td>\n",
       "      <td>LINESTRING (-116.92521 46.55461, -116.92501 46...</td>\n",
       "    </tr>\n",
       "    <tr>\n",
       "      <th>...</th>\n",
       "      <td>...</td>\n",
       "      <td>...</td>\n",
       "      <td>...</td>\n",
       "      <td>...</td>\n",
       "    </tr>\n",
       "    <tr>\n",
       "      <th>14805</th>\n",
       "      <td>Main Street</td>\n",
       "      <td>94.578</td>\n",
       "      <td>NaN</td>\n",
       "      <td>LINESTRING (-116.64778 46.61389, -116.64654 46...</td>\n",
       "    </tr>\n",
       "    <tr>\n",
       "      <th>14806</th>\n",
       "      <td>NaN</td>\n",
       "      <td>6647.733</td>\n",
       "      <td>NaN</td>\n",
       "      <td>LINESTRING (-116.49634 46.82542, -116.49640 46...</td>\n",
       "    </tr>\n",
       "    <tr>\n",
       "      <th>14807</th>\n",
       "      <td>Dry Creek Road</td>\n",
       "      <td>639.180</td>\n",
       "      <td>NaN</td>\n",
       "      <td>LINESTRING (-116.65624 46.76157, -116.65715 46...</td>\n",
       "    </tr>\n",
       "    <tr>\n",
       "      <th>14808</th>\n",
       "      <td>Dry Creek Road</td>\n",
       "      <td>675.709</td>\n",
       "      <td>NaN</td>\n",
       "      <td>LINESTRING (-116.65624 46.76157, -116.65601 46...</td>\n",
       "    </tr>\n",
       "    <tr>\n",
       "      <th>14809</th>\n",
       "      <td>NaN</td>\n",
       "      <td>2324.651</td>\n",
       "      <td>NaN</td>\n",
       "      <td>LINESTRING (-116.65624 46.76157, -116.65613 46...</td>\n",
       "    </tr>\n",
       "  </tbody>\n",
       "</table>\n",
       "<p>14810 rows × 4 columns</p>\n",
       "</div>"
      ],
      "text/plain": [
       "                        name    length bridge  \\\n",
       "0                        NaN    77.655    NaN   \n",
       "1      West Persimmon Street   118.155    NaN   \n",
       "2           North Fir Street    57.175    NaN   \n",
       "3           North Fir Street    53.945    NaN   \n",
       "4      West Persimmon Street   104.956    NaN   \n",
       "...                      ...       ...    ...   \n",
       "14805            Main Street    94.578    NaN   \n",
       "14806                    NaN  6647.733    NaN   \n",
       "14807         Dry Creek Road   639.180    NaN   \n",
       "14808         Dry Creek Road   675.709    NaN   \n",
       "14809                    NaN  2324.651    NaN   \n",
       "\n",
       "                                                geometry  \n",
       "0      LINESTRING (-117.03958 46.79292, -117.03934 46...  \n",
       "1      LINESTRING (-116.92521 46.55461, -116.92675 46...  \n",
       "2      LINESTRING (-116.92521 46.55461, -116.92519 46...  \n",
       "3      LINESTRING (-116.92521 46.55461, -116.92522 46...  \n",
       "4      LINESTRING (-116.92521 46.55461, -116.92501 46...  \n",
       "...                                                  ...  \n",
       "14805  LINESTRING (-116.64778 46.61389, -116.64654 46...  \n",
       "14806  LINESTRING (-116.49634 46.82542, -116.49640 46...  \n",
       "14807  LINESTRING (-116.65624 46.76157, -116.65715 46...  \n",
       "14808  LINESTRING (-116.65624 46.76157, -116.65601 46...  \n",
       "14809  LINESTRING (-116.65624 46.76157, -116.65613 46...  \n",
       "\n",
       "[14810 rows x 4 columns]"
      ]
     },
     "execution_count": 27,
     "metadata": {},
     "output_type": "execute_result"
    }
   ],
   "source": [
    "bike_network = ox.graph_from_place(\"Latah County, Idaho\",\n",
    "                                   network_type=\"bike\")\n",
    "bike_network\n",
    "bike_network = (ox.graph_to_gdfs(bike_network, nodes=False)\n",
    "                  .reset_index(drop=True)\n",
    "                  .loc[:, [\"name\", \"length\", \"bridge\", \"geometry\"]]\n",
    "               )\n",
    "bike_network"
   ]
  },
  {
   "cell_type": "code",
   "execution_count": 31,
   "id": "baking-rover",
   "metadata": {},
   "outputs": [
    {
     "data": {
      "application/vnd.jupyter.widget-view+json": {
       "model_id": "f5e2ce5417404c43b6cd30ac8f0bc74a",
       "version_major": 2,
       "version_minor": 0
      },
      "text/plain": [
       "Canvas(toolbar=Toolbar(toolitems=[('Home', 'Reset original view', 'home', 'home'), ('Back', 'Back to previous …"
      ]
     },
     "metadata": {},
     "output_type": "display_data"
    },
    {
     "data": {
      "text/plain": [
       "<AxesSubplot:title={'center':'Latah County Cycling'}>"
      ]
     },
     "execution_count": 31,
     "metadata": {},
     "output_type": "execute_result"
    }
   ],
   "source": [
    "ax = latah.plot(edgecolor=\"0.2\")\n",
    "bike_network.plot(ax=ax, edgecolor=\"0.2\", color=\"tomato\")\n",
    "plt.title(\"Latah County Cycling\");bike_network.plot(ax=ax, edgecolor=\"0.2\", color=\"tomato\")\n"
   ]
  },
  {
   "cell_type": "code",
   "execution_count": 32,
   "id": "intensive-procedure",
   "metadata": {},
   "outputs": [
    {
     "name": "stdout",
     "output_type": "stream",
     "text": [
      "Total bike lane length: 6338km\n"
     ]
    }
   ],
   "source": [
    "bike_network = bike_network.to_crs(\"EPSG:3347\")\n",
    "bike_network[\"geometry\"].length\n",
    "total_length = bike_network[\"geometry\"].length.sum()\n",
    "print(f\"Total bike lane length: {total_length / 1000:.0f}km\")"
   ]
  },
  {
   "cell_type": "code",
   "execution_count": null,
   "id": "portuguese-motion",
   "metadata": {},
   "outputs": [],
   "source": [
    "\n",
    "\n"
   ]
  },
  {
   "cell_type": "markdown",
   "id": "structural-version",
   "metadata": {},
   "source": [
    "## Find steepest trail on the mountain"
   ]
  },
  {
   "cell_type": "code",
   "execution_count": null,
   "id": "veterinary-boundary",
   "metadata": {},
   "outputs": [],
   "source": []
  },
  {
   "cell_type": "markdown",
   "id": "enclosed-screw",
   "metadata": {},
   "source": [
    "## Longest trail on the mountain"
   ]
  },
  {
   "cell_type": "code",
   "execution_count": null,
   "id": "greenhouse-surfing",
   "metadata": {},
   "outputs": [],
   "source": []
  },
  {
   "cell_type": "markdown",
   "id": "naked-triumph",
   "metadata": {},
   "source": [
    "## Trail with most vertical relief"
   ]
  },
  {
   "cell_type": "code",
   "execution_count": null,
   "id": "appreciated-phoenix",
   "metadata": {},
   "outputs": [],
   "source": []
  },
  {
   "cell_type": "markdown",
   "id": "incomplete-forge",
   "metadata": {},
   "source": [
    "## Is the north side of the mountain steeper than the south side?"
   ]
  },
  {
   "cell_type": "code",
   "execution_count": null,
   "id": "superior-dayton",
   "metadata": {},
   "outputs": [],
   "source": []
  },
  {
   "cell_type": "markdown",
   "id": "renewable-bernard",
   "metadata": {},
   "source": [
    "## Find all the tors"
   ]
  },
  {
   "cell_type": "code",
   "execution_count": null,
   "id": "compliant-amateur",
   "metadata": {},
   "outputs": [],
   "source": []
  },
  {
   "cell_type": "markdown",
   "id": "original-bradley",
   "metadata": {},
   "source": [
    "## Most valuable connector: Shortest section of trail that could be added that would enable the most loops"
   ]
  },
  {
   "cell_type": "code",
   "execution_count": null,
   "id": "marine-ribbon",
   "metadata": {},
   "outputs": [],
   "source": []
  },
  {
   "cell_type": "code",
   "execution_count": null,
   "id": "standard-outside",
   "metadata": {},
   "outputs": [],
   "source": []
  },
  {
   "cell_type": "code",
   "execution_count": null,
   "id": "entertaining-gathering",
   "metadata": {},
   "outputs": [],
   "source": []
  },
  {
   "cell_type": "code",
   "execution_count": null,
   "id": "alpine-martial",
   "metadata": {},
   "outputs": [],
   "source": []
  },
  {
   "cell_type": "code",
   "execution_count": null,
   "id": "resistant-investment",
   "metadata": {},
   "outputs": [],
   "source": []
  },
  {
   "cell_type": "code",
   "execution_count": null,
   "id": "knowing-princess",
   "metadata": {},
   "outputs": [],
   "source": []
  },
  {
   "cell_type": "code",
   "execution_count": null,
   "id": "beautiful-offset",
   "metadata": {},
   "outputs": [],
   "source": []
  }
 ],
 "metadata": {
  "kernelspec": {
   "display_name": "spatialenv21a",
   "language": "python",
   "name": "spatialenv21a"
  },
  "language_info": {
   "codemirror_mode": {
    "name": "ipython",
    "version": 3
   },
   "file_extension": ".py",
   "mimetype": "text/x-python",
   "name": "python",
   "nbconvert_exporter": "python",
   "pygments_lexer": "ipython3",
   "version": "3.7.10"
  }
 },
 "nbformat": 4,
 "nbformat_minor": 5
}
